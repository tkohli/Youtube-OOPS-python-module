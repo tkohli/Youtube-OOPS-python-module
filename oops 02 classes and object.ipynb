{
 "metadata": {
  "language_info": {
   "codemirror_mode": {
    "name": "ipython",
    "version": 3
   },
   "file_extension": ".py",
   "mimetype": "text/x-python",
   "name": "python",
   "nbconvert_exporter": "python",
   "pygments_lexer": "ipython3",
   "version": "3.8.3"
  },
  "orig_nbformat": 2,
  "kernelspec": {
   "name": "python383jvsc74a57bd04959e9b4f25b4c95f653ccaa3475948476cdf1a2f205983bd1d37b42ba7c6753",
   "display_name": "Python 3.8.3 64-bit ('base': conda)"
  }
 },
 "nbformat": 4,
 "nbformat_minor": 2,
 "cells": [
  {
   "source": [
    "\n",
    "Syntax<br>\n",
    "class Classname(Object):<br>\n",
    "\"\"\" Docstring about class\"\"\"<br> \n",
    "attributes<br>\n",
    "    def \\_\\_init\\_\\_(self):<br>\n",
    "    def methods():<br>\n",
    "        <br>\n",
    "object class is base class in python\n",
    "even our classes are derived from object class"
   ],
   "cell_type": "markdown",
   "metadata": {}
  },
  {
   "cell_type": "code",
   "execution_count": null,
   "metadata": {},
   "outputs": [],
   "source": [
    "class student(object):                  # class student():   is also correct way\n",
    "    # now we will define attributes of this class\n",
    "    def __init__(self):\n",
    "        self.name = \"Tanishka Kohli\"\n",
    "        self.age = \"21\"\n",
    "        self.marks = \"80\"\n",
    "    \n",
    "    # now let's define a method\n",
    "    def talk(self):\n",
    "        print(\"Hello my name is \"+self.name)\n",
    "        print(\"My age is \"+ self.age)\n",
    "        print(\"I scored \"+ self.marks)\n",
    "\n",
    "Tanishka = student()\n",
    "Tanishka.talk()"
   ]
  },
  {
   "cell_type": "code",
   "execution_count": null,
   "metadata": {},
   "outputs": [],
   "source": [
    "Tanishka = student()\n",
    "Tanishka.talk()\n",
    "# Instancename  =  classname()"
   ]
  },
  {
   "cell_type": "code",
   "execution_count": null,
   "metadata": {},
   "outputs": [],
   "source": [
    "Tanishka.talk()\n"
   ]
  },
  {
   "source": [
    "here Tanishka is nothing but just an instance of class Student, after allocating a memory block the special method __init__(self) <br>\n",
    "is called internally. This method stores the initial data into variables and as it construct the instance it is called constructor<br>\n",
    "Finally the memory address is returned into Tanishka variable \n"
   ],
   "cell_type": "markdown",
   "metadata": {}
  },
  {
   "cell_type": "code",
   "execution_count": null,
   "metadata": {},
   "outputs": [],
   "source": [
    "id(Tanishka)        # it returns its adress in decimal and to see it in hexadecimal see active variables"
   ]
  },
  {
   "cell_type": "code",
   "execution_count": null,
   "metadata": {},
   "outputs": [],
   "source": [
    "id(Tanishka.name)"
   ]
  },
  {
   "cell_type": "code",
   "execution_count": null,
   "metadata": {},
   "outputs": [],
   "source": [
    "Tanishka.talk()"
   ]
  },
  {
   "source": [
    "## Self variable \n",
    "self is a default variable to contain memory address of CURRENT variable of class <br>\n",
    "in above case the self variable may refer to Tanishka \n",
    "In def talk(self), If this method wants to act on the method then it should know its location and thus we pass self\n"
   ],
   "cell_type": "markdown",
   "metadata": {}
  },
  {
   "cell_type": "code",
   "execution_count": null,
   "metadata": {},
   "outputs": [],
   "source": [
    "print(2220832075488.name)"
   ]
  },
  {
   "source": [
    "## Constructor\n",
    "A constructor is a special method is used to initialise the instance variable of class. The first parameter is the self<br>\n",
    "as it contains the memory address of the block"
   ],
   "cell_type": "markdown",
   "metadata": {}
  },
  {
   "cell_type": "code",
   "execution_count": null,
   "metadata": {},
   "outputs": [],
   "source": [
    "class Students():\n",
    "    def __init__(self,n = '',m = 0):\n",
    "        print(\"hey i never called this funtion but it still runs\")\n",
    "        self.n = n\n",
    "        self.m = m\n",
    "    def display(self):\n",
    "        print(\"Hi \",self.n)\n",
    "        print(\"Marks = \",self.m)\n",
    "\n",
    "\n",
    "s = Students()\n",
    "s.display()\n",
    "print(\"________________\\n\")\n",
    "s1 = Students(\"Tanishka Kohli\",80)\n",
    "s1.display()\n"
   ]
  },
  {
   "source": [
    "## The diff between cls and self\n",
    "namespaces they represent a memory block"
   ],
   "cell_type": "markdown",
   "metadata": {}
  },
  {
   "cell_type": "code",
   "execution_count": null,
   "metadata": {},
   "outputs": [],
   "source": [
    "class Sample:\n",
    "    def __init__(self):\n",
    "        self.n = 10\n",
    "    def modify(self):\n",
    "        self.n+=1\n"
   ]
  },
  {
   "cell_type": "code",
   "execution_count": null,
   "metadata": {},
   "outputs": [],
   "source": [
    "s1 = Sample()\n",
    "s2 = Sample()\n",
    "print(s1.n)\n",
    "print(s2.n)\n",
    "s1.modify()\n",
    "print(s1.n)\n",
    "print(s2.n)"
   ]
  },
  {
   "cell_type": "code",
   "execution_count": null,
   "metadata": {},
   "outputs": [],
   "source": [
    "class Sample1:\n",
    "    x = 10\n",
    "    @classmethod\n",
    "    def modify(cls):\n",
    "        cls.x+=1\n"
   ]
  },
  {
   "cell_type": "code",
   "execution_count": null,
   "metadata": {},
   "outputs": [],
   "source": [
    "s3 = Sample1()\n",
    "s4 = Sample1()\n",
    "print(s3.x)\n",
    "print(s4.x)\n",
    "s3.modify()\n",
    "print(s3.x)\n",
    "print(s4.x)"
   ]
  },
  {
   "source": [
    "## Types of method\n",
    "1. Instance method \n",
    "2. Class method         \n",
    "3. Static method"
   ],
   "cell_type": "markdown",
   "metadata": {}
  },
  {
   "source": [
    "Instance method are method that act upon instance variable of class as they are bound to instance<br>\n",
    "in this prog we make an instance method display(),calculate() depending on marks"
   ],
   "cell_type": "markdown",
   "metadata": {}
  },
  {
   "cell_type": "code",
   "execution_count": 1,
   "metadata": {},
   "outputs": [
    {
     "output_type": "stream",
     "name": "stdout",
     "text": [
      "Name:  tanishka\n",
      "Your marks:  85\n",
      "First Division\n"
     ]
    },
    {
     "output_type": "error",
     "ename": "NameError",
     "evalue": "name 'i' is not defined",
     "traceback": [
      "\u001b[1;31m---------------------------------------------------------------------------\u001b[0m",
      "\u001b[1;31mNameError\u001b[0m                                 Traceback (most recent call last)",
      "\u001b[1;32m<ipython-input-1-da3cd135a857>\u001b[0m in \u001b[0;36m<module>\u001b[1;34m\u001b[0m\n\u001b[0;32m     24\u001b[0m \u001b[0ms\u001b[0m\u001b[1;33m.\u001b[0m\u001b[0mdisplay\u001b[0m\u001b[1;33m(\u001b[0m\u001b[1;33m)\u001b[0m\u001b[1;33m\u001b[0m\u001b[1;33m\u001b[0m\u001b[0m\n\u001b[0;32m     25\u001b[0m \u001b[0ms\u001b[0m\u001b[1;33m.\u001b[0m\u001b[0mcalculate\u001b[0m\u001b[1;33m(\u001b[0m\u001b[1;33m)\u001b[0m\u001b[1;33m\u001b[0m\u001b[1;33m\u001b[0m\u001b[0m\n\u001b[1;32m---> 26\u001b[1;33m \u001b[0mi\u001b[0m\u001b[1;33m+=\u001b[0m\u001b[1;36m1\u001b[0m\u001b[1;33m\u001b[0m\u001b[1;33m\u001b[0m\u001b[0m\n\u001b[0m\u001b[0;32m     27\u001b[0m \u001b[0mprint\u001b[0m\u001b[1;33m(\u001b[0m\u001b[1;34m\"----------------\"\u001b[0m\u001b[1;33m)\u001b[0m\u001b[1;33m\u001b[0m\u001b[1;33m\u001b[0m\u001b[0m\n",
      "\u001b[1;31mNameError\u001b[0m: name 'i' is not defined"
     ]
    }
   ],
   "source": [
    "class Student:\n",
    "    # Constructor\n",
    "    def __init__(self,n='',m=0):\n",
    "        self.n = n\n",
    "        self.m = m\n",
    "    def display(self):          #instance method as it is specific to instance\n",
    "        print(\"Name: \",self.n)\n",
    "        print(\"Your marks: \",self.m)\n",
    "    def calculate(self):\n",
    "        if (self.m > 75):\n",
    "            print(\"First Division\")\n",
    "        elif (self.m > 60):\n",
    "            print(\"Second Division\")\n",
    "        elif (self.m > 45):\n",
    "            print(\"Pass\")\n",
    "        else:\n",
    "            print(\"Fail!!!\")\n",
    "\n",
    "\n",
    "name = input(\"Enter Student name - \")\n",
    "marks = int(input(\"Enter student marks - \"))\n",
    "s = Student(name,marks)\n",
    "s.display()\n",
    "s.calculate()\n",
    "\n",
    "print(\"----------------\")\n"
   ]
  },
  {
   "cell_type": "code",
   "execution_count": null,
   "metadata": {},
   "outputs": [],
   "source": [
    "n = int(input(\"Enter the number of students \"))\n",
    "i = 0\n",
    "while i<n:\n",
    "    name = input(\"Enter Student name - \")\n",
    "    marks = int(input(\"Enter student marks - \"))\n",
    "    s = Student(name,marks)\n",
    "    s.display()\n",
    "    s.calculate()\n",
    "    i+=1\n",
    "    print(\"----------------\")\n"
   ]
  },
  {
   "source": [
    "Class method - They act on class level that act as class variable or static variable<br>\n",
    "eg cls.var is format to refer to class variable and same for class method"
   ],
   "cell_type": "markdown",
   "metadata": {}
  },
  {
   "cell_type": "code",
   "execution_count": 2,
   "metadata": {},
   "outputs": [
    {
     "output_type": "stream",
     "name": "stdout",
     "text": [
      "Sparrow flies with 2 wings\n",
      "Pigion flies with 2 wings\n"
     ]
    }
   ],
   "source": [
    "class Bird():\n",
    "    #this is a class variable\n",
    "    wings = 2\n",
    "\n",
    "    #this is a class method\n",
    "    @classmethod\n",
    "    def fly(cls, name):\n",
    "        print(\"{} flies with {} wings\".format(name,cls.wings))\n",
    "\n",
    "\n",
    "Bird.fly(\"Sparrow\")\n",
    "Bird.fly(\"Pigion\")"
   ]
  },
  {
   "source": [
    "Static methods - when processing is at class level but we need not to involve class or instance<br>\n",
    "When we do some processing related to class but not related to any specific instance<br>\n",
    "eg - settting environmental variables , counting the number of instance or changing attributes in anather class\n",
    "<br>\n",
    "Basically all methods that are instance independent -  Tanishka kohli 2021"
   ],
   "cell_type": "markdown",
   "metadata": {}
  },
  {
   "cell_type": "code",
   "execution_count": 3,
   "metadata": {},
   "outputs": [
    {
     "output_type": "stream",
     "name": "stdout",
     "text": [
      "Total number of instance created are  3\n"
     ]
    }
   ],
   "source": [
    "class MyClass:\n",
    "    #class variable or a static variable\n",
    "    n = 0\n",
    "    # a constructor that increments n\n",
    "    def __init__(self):\n",
    "        MyClass.n +=1\n",
    "\n",
    "    @staticmethod\n",
    "    def noOfObjects():\n",
    "        print(\"Total number of instance created are \",MyClass.n)\n",
    "\n",
    "obj1 = MyClass()\n",
    "Obj2 = MyClass()\n",
    "Obj3 = MyClass()\n",
    "\n",
    "\n",
    "MyClass.noOfObjects()"
   ]
  },
  {
   "source": [
    "## Passing members of One Class to another class\n"
   ],
   "cell_type": "markdown",
   "metadata": {}
  },
  {
   "source": [
    "\n",
    "Suppose we have a class Emp()\n",
    "we make an object e = Emp()\n",
    "then we pass it as MyClass.method(e)\n"
   ],
   "cell_type": "markdown",
   "metadata": {}
  },
  {
   "cell_type": "code",
   "execution_count": 4,
   "metadata": {},
   "outputs": [
    {
     "output_type": "stream",
     "name": "stdout",
     "text": [
      "Name:  Tanishka kohli\n",
      "Salary:  60000\n"
     ]
    }
   ],
   "source": [
    "class Emp():\n",
    "    # constructor time\n",
    "    def __init__(self,id,name,salary):\n",
    "        self.id = id\n",
    "        self.name = name\n",
    "        self.salary = salary\n",
    "    \n",
    "    #this is instance method\n",
    "    def display(self):\n",
    "        print(\"Name: \",self.name)\n",
    "        print(\"Salary: \",self.salary)\n",
    "\n",
    "class Myclass:\n",
    "    @staticmethod\n",
    "    def myMethod(e):\n",
    "        e.salary+=10000\n",
    "        e.display()\n",
    "\n",
    "e = Emp(1,\"Tanishka kohli\",50000)\n",
    "Myclass.myMethod(e)"
   ]
  },
  {
   "source": [
    "## Class inside a class\n",
    "nested class the concept is amazing <br>\n"
   ],
   "cell_type": "markdown",
   "metadata": {}
  },
  {
   "cell_type": "code",
   "execution_count": 5,
   "metadata": {},
   "outputs": [
    {
     "output_type": "stream",
     "name": "stdout",
     "text": [
      "Name =  Tanishka\n",
      "DOB = 22/12/2000\n"
     ]
    }
   ],
   "source": [
    "class Person:\n",
    "    def __init__(self):\n",
    "        self.name = 'Tanishka'\n",
    "        self.db = self.DOB() # this is DOB object\n",
    "    def display(self):\n",
    "        print(\"Name = \",self.name)\n",
    "\n",
    "    class DOB:\n",
    "        def __init__(self):\n",
    "            self.dd = 22\n",
    "            self.mm = 12\n",
    "            self.yy = 2000\n",
    "        def display(self):\n",
    "            print(\"DOB = {}/{}/{}\".format(self.dd,self.mm,self.yy))\n",
    "\n",
    "p = Person()\n",
    "p.display()\n",
    "\n",
    "x = p.db\n",
    "x.display()"
   ]
  },
  {
   "cell_type": "code",
   "execution_count": 7,
   "metadata": {},
   "outputs": [
    {
     "output_type": "stream",
     "name": "stdout",
     "text": [
      "22\n"
     ]
    }
   ],
   "source": [
    "print(x.dd)"
   ]
  },
  {
   "cell_type": "code",
   "execution_count": null,
   "metadata": {},
   "outputs": [],
   "source": []
  }
 ]
}