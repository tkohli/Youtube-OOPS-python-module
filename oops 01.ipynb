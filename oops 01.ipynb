{
 "metadata": {
  "language_info": {
   "codemirror_mode": {
    "name": "ipython",
    "version": 3
   },
   "file_extension": ".py",
   "mimetype": "text/x-python",
   "name": "python",
   "nbconvert_exporter": "python",
   "pygments_lexer": "ipython3",
   "version": "3.8.3"
  },
  "orig_nbformat": 2,
  "kernelspec": {
   "name": "python383jvsc74a57bd04959e9b4f25b4c95f653ccaa3475948476cdf1a2f205983bd1d37b42ba7c6753",
   "display_name": "Python 3.8.3 64-bit ('base': conda)"
  }
 },
 "nbformat": 4,
 "nbformat_minor": 2,
 "cells": [
  {
   "source": [
    "# Introduction to OOP in python\n"
   ],
   "cell_type": "markdown",
   "metadata": {}
  },
  {
   "source": [
    "A lot of programming lang are called Procedure oriented programming lang POP like C, Fortan, Pascal in these lang\n",
    "Programmer uses what is called a funtion or procedure.\n",
    "While developing a software your main approach should be deviding a main task into sub task\n",
    "And this approach is called POP"
   ],
   "cell_type": "markdown",
   "metadata": {}
  },
  {
   "source": [
    "On the other hand we have morden lang like C++, java, Python etc They are called object oriented programming lang\n",
    "A class is a module which itself contains Data member and member funtions or methods. \n",
    "Here we define these sub task into classes and its methods\n",
    "Why is it more usefull -\n",
    "Writing a software is a very length process and lines of code may reach upto 10,000 and at that point programmer start loosing control of code and if code reaches 100,000 it is just gonna become massive and thus we needed OOPS"
   ],
   "cell_type": "markdown",
   "metadata": {}
  },
  {
   "source": [
    "Advantage of python is that it dosen't have to be a completely OOP in order to run, similar to c++ and in contradiction to java i.e. we have to write a class everytime in java even to print hello world<br>\n",
    "# Features of OOPS\n",
    "Classes and Object<br>\n",
    "Encapsulation <br>\n",
    "Abstraction <br>\n",
    "Inheritance <br>\n",
    "Polymorphism <br>"
   ],
   "cell_type": "markdown",
   "metadata": {}
  },
  {
   "source": [
    "## Object and Classes\n",
    "Object is anything that exists in real world, eg a table, a chair, a person etc.<br>\n",
    "every object has some behavior related to its attributes eg: Person Raju, raju is an object and it's attributes are name age gender etc. <br>\n",
    "Similarly raju can perform different actions like walking talking sleeping etc etc etc those are called methods\n",
    "<br>\n",
    "A class is a group of name but does not exists physically but objects they exists physically."
   ],
   "cell_type": "markdown",
   "metadata": {}
  },
  {
   "source": [
    "Flower is class but attributes like smell color etc and its object will be roses lily jasmine etc will exist in real life as objects of class flower"
   ],
   "cell_type": "markdown",
   "metadata": {}
  },
  {
   "cell_type": "code",
   "execution_count": 1,
   "metadata": {},
   "outputs": [
    {
     "output_type": "stream",
     "name": "stdout",
     "text": [
      "Raju\n",
      "20\n",
      "Raju\n"
     ]
    }
   ],
   "source": [
    "class Person:\n",
    "    name = 'Raju'\n",
    "    age = 20\n",
    "    #define actions\n",
    "    def talk(cls):\n",
    "        print(cls.name)\n",
    "        print(cls.age)\n",
    "\n",
    "\n",
    "p1 = Person()\n",
    "p1.talk()\n",
    "print(p1.name)"
   ]
  },
  {
   "source": [
    "Note: cls is a default parameter"
   ],
   "cell_type": "markdown",
   "metadata": {}
  },
  {
   "cell_type": "code",
   "execution_count": 2,
   "metadata": {},
   "outputs": [
    {
     "output_type": "stream",
     "name": "stdout",
     "text": [
      "raj\n",
      "20\n",
      "raj\n",
      "20\n",
      "raj\n",
      "raj\n"
     ]
    }
   ],
   "source": [
    "class Person:\n",
    "    name = input()\n",
    "    age = 20\n",
    "    #define actions\n",
    "    def talk(cls):\n",
    "        print(cls.name)\n",
    "        print(cls.age)\n",
    "\n",
    "\n",
    "p1 = Person()\n",
    "p1.talk()\n",
    "p2 = Person()\n",
    "p2.talk()\n",
    "print(p1.name)\n",
    "print(p2.name)"
   ]
  },
  {
   "source": [
    "## Encapsulation\n",
    "In short wrappig of data or binding of data, it isolates the member of class from other class and hence we do not overwrite the same variable again again then we make some shared memory."
   ],
   "cell_type": "markdown",
   "metadata": {}
  },
  {
   "cell_type": "code",
   "execution_count": 3,
   "metadata": {},
   "outputs": [
    {
     "output_type": "stream",
     "name": "stdout",
     "text": [
      "Ram\n",
      "20\n",
      "shyam\n",
      "20\n",
      "Ram\n",
      "shyam\n"
     ]
    }
   ],
   "source": [
    "class Person:\n",
    "    def __init__(self):\n",
    "        self.name = input()\n",
    "        self.age = 20\n",
    "    # define actions\n",
    "    def talk(self):\n",
    "        print(self.name)\n",
    "        print(self.age)\n",
    "\n",
    "\n",
    "p1 = Person()\n",
    "p1.talk()\n",
    "p2 = Person()\n",
    "p2.talk()\n",
    "print(p1.name)\n",
    "print(p2.name)"
   ]
  },
  {
   "source": [
    "__init__ is a special funtion, it helps to create instance variable for whose copy is strictly available to that object \n",
    "self.id refers to that variable in that object"
   ],
   "cell_type": "markdown",
   "metadata": {}
  },
  {
   "source": [
    "## Abstraction\n",
    "simple as data hiding, why do we use it - To hide unnecessary data from the user \n",
    "Eg: car the driver of car should know how to drive a car but knowlege about radiator, battery, mechanical and electrical equipment is not necc info hence car manufacturer hide these part details from driver<br>\n",
    "Advantages are get rid of unnecessary data and also to hide all sensitive informations from being accessed outside the class.\n",
    "In java we have public private protected aka access specifiers, in python they are not available "
   ],
   "cell_type": "markdown",
   "metadata": {}
  },
  {
   "cell_type": "code",
   "execution_count": 7,
   "metadata": {},
   "outputs": [
    {
     "output_type": "stream",
     "name": "stdout",
     "text": [
      "5\n8\n"
     ]
    }
   ],
   "source": [
    "class MyClass:\n",
    "    def __init__(self):\n",
    "        self.y1 = 5\n",
    "        self.__y2 = 3\n",
    "\n",
    "    def  add(self):\n",
    "        print(self.y1 + self.__y2)\n",
    "\n",
    "obj = MyClass()\n",
    "print(obj.y1)\n",
    "obj.add()\n",
    "\n"
   ]
  },
  {
   "cell_type": "code",
   "execution_count": 8,
   "metadata": {},
   "outputs": [
    {
     "output_type": "error",
     "ename": "AttributeError",
     "evalue": "'MyClass' object has no attribute '__y2'",
     "traceback": [
      "\u001b[1;31m---------------------------------------------------------------------------\u001b[0m",
      "\u001b[1;31mAttributeError\u001b[0m                            Traceback (most recent call last)",
      "\u001b[1;32m<ipython-input-8-e4a45f13ffad>\u001b[0m in \u001b[0;36m<module>\u001b[1;34m\u001b[0m\n\u001b[1;32m----> 1\u001b[1;33m \u001b[0mprint\u001b[0m\u001b[1;33m(\u001b[0m\u001b[0mobj\u001b[0m\u001b[1;33m.\u001b[0m\u001b[0m__y2\u001b[0m\u001b[1;33m)\u001b[0m\u001b[1;33m\u001b[0m\u001b[1;33m\u001b[0m\u001b[0m\n\u001b[0m",
      "\u001b[1;31mAttributeError\u001b[0m: 'MyClass' object has no attribute '__y2'"
     ]
    }
   ],
   "source": [
    "print(obj.__y2)"
   ]
  },
  {
   "cell_type": "code",
   "execution_count": 9,
   "metadata": {},
   "outputs": [
    {
     "output_type": "execute_result",
     "data": {
      "text/plain": [
       "3"
      ]
     },
     "metadata": {},
     "execution_count": 9
    }
   ],
   "source": [
    "# to display the private part of code\n",
    "obj._MyClass__y2 # This is called name mangling"
   ]
  },
  {
   "source": [
    "## Inheritance \n",
    "Creating new classes from existing classes aquiring all features from its parent class<br>\n",
    "This helps in much more manageable code "
   ],
   "cell_type": "markdown",
   "metadata": {}
  },
  {
   "cell_type": "code",
   "execution_count": 10,
   "metadata": {},
   "outputs": [
    {
     "output_type": "stream",
     "name": "stdout",
     "text": [
      "5\n",
      "3\n",
      "8\n"
     ]
    }
   ],
   "source": [
    "class A:\n",
    "    a = 5\n",
    "    b = 3\n",
    "    def method1(cls):\n",
    "        print(cls.a)\n",
    "        print(cls.b)\n",
    "class B(A):\n",
    "    c = 8\n",
    "    def method2(cls):\n",
    "        print(cls.c)\n",
    "\n",
    "obj = B()\n",
    "obj.method1()\n",
    "obj.method2()"
   ]
  },
  {
   "source": [
    "## Polymorphism\n",
    "it means many forms\n",
    "One funtion performing many operations\n"
   ],
   "cell_type": "markdown",
   "metadata": {}
  },
  {
   "cell_type": "code",
   "execution_count": 20,
   "metadata": {},
   "outputs": [
    {
     "output_type": "stream",
     "name": "stdout",
     "text": [
      "7\nhello world!\n"
     ]
    }
   ],
   "source": [
    "def add(a,b):\n",
    "    print(a+b)\n",
    "\n",
    "\n",
    "add(5,2)\n",
    "add(\"hello \",\"world!\")\n"
   ]
  },
  {
   "cell_type": "code",
   "execution_count": null,
   "metadata": {},
   "outputs": [],
   "source": []
  }
 ]
}