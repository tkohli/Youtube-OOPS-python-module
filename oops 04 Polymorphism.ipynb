{
 "metadata": {
  "language_info": {
   "codemirror_mode": {
    "name": "ipython",
    "version": 3
   },
   "file_extension": ".py",
   "mimetype": "text/x-python",
   "name": "python",
   "nbconvert_exporter": "python",
   "pygments_lexer": "ipython3",
   "version": 3
  },
  "orig_nbformat": 2
 },
 "nbformat": 4,
 "nbformat_minor": 2,
 "cells": [
  {
   "source": [
    "# Poly morhpism aka many forms"
   ],
   "cell_type": "markdown",
   "metadata": {}
  },
  {
   "source": [
    "eg: flour - burger bun, roties, breads etc etc etc <br>\n",
    "polymorphism is built in in python as itis not strictly typed programming language <br>\n",
    "Topics in polymorphism- <br>\n",
    "1. Duck typing philosophy of python<br>\n",
    "2. Operator overloading<br>\n",
    "3. Method overloading <br>\n",
    "4. method overriding<br>"
   ],
   "cell_type": "markdown",
   "metadata": {}
  },
  {
   "cell_type": "code",
   "execution_count": null,
   "metadata": {},
   "outputs": [],
   "source": []
  }
 ]
}