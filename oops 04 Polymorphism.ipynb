{
 "metadata": {
  "language_info": {
   "codemirror_mode": {
    "name": "ipython",
    "version": 3
   },
   "file_extension": ".py",
   "mimetype": "text/x-python",
   "name": "python",
   "nbconvert_exporter": "python",
   "pygments_lexer": "ipython3",
   "version": "3.8.3"
  },
  "orig_nbformat": 2,
  "kernelspec": {
   "name": "python383jvsc74a57bd04959e9b4f25b4c95f653ccaa3475948476cdf1a2f205983bd1d37b42ba7c6753",
   "display_name": "Python 3.8.3 64-bit ('base': conda)"
  }
 },
 "nbformat": 4,
 "nbformat_minor": 2,
 "cells": [
  {
   "source": [
    "# Poly morhpism aka many forms"
   ],
   "cell_type": "markdown",
   "metadata": {}
  },
  {
   "source": [
    "eg: flour - burger bun, roties, breads etc etc etc <br>\n",
    "polymorphism is built in in python as itis not strictly typed programming language <br>\n",
    "Topics in polymorphism- <br>\n",
    "1. Duck typing philosophy of python<br>\n",
    "2. Operator overloading<br>\n",
    "3. Method overloading <br>\n",
    "4. method overriding<br>"
   ],
   "cell_type": "markdown",
   "metadata": {}
  },
  {
   "cell_type": "code",
   "execution_count": null,
   "metadata": {},
   "outputs": [],
   "source": []
  },
  {
   "cell_type": "code",
   "execution_count": 1,
   "metadata": {},
   "outputs": [
    {
     "output_type": "stream",
     "name": "stdout",
     "text": [
      "Quack Quack!\nHello hi!\n"
     ]
    }
   ],
   "source": [
    "class Duck:\n",
    "    def talk(self):\n",
    "        print(\"Quack Quack!\")\n",
    "\n",
    "class Human:\n",
    "    def talk(self):\n",
    "        print(\"Hello hi!\")\n",
    "\n",
    "def calltalk(obj):\n",
    "    obj.talk()\n",
    "\n",
    "x = Duck()\n",
    "calltalk(x)\n",
    "x = Human()\n",
    "calltalk(x)\n"
   ]
  },
  {
   "cell_type": "code",
   "execution_count": 3,
   "metadata": {},
   "outputs": [
    {
     "output_type": "stream",
     "name": "stdout",
     "text": [
      "Quack Quack!\nHello hi!\n"
     ]
    },
    {
     "output_type": "error",
     "ename": "AttributeError",
     "evalue": "'Dog' object has no attribute 'talk'",
     "traceback": [
      "\u001b[1;31m---------------------------------------------------------------------------\u001b[0m",
      "\u001b[1;31mAttributeError\u001b[0m                            Traceback (most recent call last)",
      "\u001b[1;32m<ipython-input-3-ed9336515003>\u001b[0m in \u001b[0;36m<module>\u001b[1;34m\u001b[0m\n\u001b[0;32m     19\u001b[0m \u001b[0mcalltalk\u001b[0m\u001b[1;33m(\u001b[0m\u001b[0mx\u001b[0m\u001b[1;33m)\u001b[0m\u001b[1;33m\u001b[0m\u001b[1;33m\u001b[0m\u001b[0m\n\u001b[0;32m     20\u001b[0m \u001b[0mx\u001b[0m \u001b[1;33m=\u001b[0m \u001b[0mDog\u001b[0m\u001b[1;33m(\u001b[0m\u001b[1;33m)\u001b[0m\u001b[1;33m\u001b[0m\u001b[1;33m\u001b[0m\u001b[0m\n\u001b[1;32m---> 21\u001b[1;33m \u001b[0mcalltalk\u001b[0m\u001b[1;33m(\u001b[0m\u001b[0mx\u001b[0m\u001b[1;33m)\u001b[0m\u001b[1;33m\u001b[0m\u001b[1;33m\u001b[0m\u001b[0m\n\u001b[0m",
      "\u001b[1;32m<ipython-input-3-ed9336515003>\u001b[0m in \u001b[0;36mcalltalk\u001b[1;34m(obj)\u001b[0m\n\u001b[0;32m     12\u001b[0m \u001b[1;33m\u001b[0m\u001b[0m\n\u001b[0;32m     13\u001b[0m \u001b[1;32mdef\u001b[0m \u001b[0mcalltalk\u001b[0m\u001b[1;33m(\u001b[0m\u001b[0mobj\u001b[0m\u001b[1;33m)\u001b[0m\u001b[1;33m:\u001b[0m\u001b[1;33m\u001b[0m\u001b[1;33m\u001b[0m\u001b[0m\n\u001b[1;32m---> 14\u001b[1;33m     \u001b[0mobj\u001b[0m\u001b[1;33m.\u001b[0m\u001b[0mtalk\u001b[0m\u001b[1;33m(\u001b[0m\u001b[1;33m)\u001b[0m\u001b[1;33m\u001b[0m\u001b[1;33m\u001b[0m\u001b[0m\n\u001b[0m\u001b[0;32m     15\u001b[0m \u001b[1;33m\u001b[0m\u001b[0m\n\u001b[0;32m     16\u001b[0m \u001b[0mx\u001b[0m \u001b[1;33m=\u001b[0m \u001b[0mDuck\u001b[0m\u001b[1;33m(\u001b[0m\u001b[1;33m)\u001b[0m\u001b[1;33m\u001b[0m\u001b[1;33m\u001b[0m\u001b[0m\n",
      "\u001b[1;31mAttributeError\u001b[0m: 'Dog' object has no attribute 'talk'"
     ]
    }
   ],
   "source": [
    "class Duck:\n",
    "    def talk(self):\n",
    "        print(\"Quack Quack!\")\n",
    "\n",
    "class Human:\n",
    "    def talk(self):\n",
    "        print(\"Hello hi!\")\n",
    "\n",
    "class Dog:\n",
    "    def bark(self):\n",
    "        print(\"Bark Bark!\")\n",
    "\n",
    "def calltalk(obj):\n",
    "    obj.talk()\n",
    "\n",
    "x = Duck()\n",
    "calltalk(x)\n",
    "x = Human()\n",
    "calltalk(x)\n",
    "x = Dog()\n",
    "calltalk(x)\n"
   ]
  },
  {
   "cell_type": "code",
   "execution_count": 5,
   "metadata": {},
   "outputs": [
    {
     "output_type": "stream",
     "name": "stdout",
     "text": [
      "Quack Quack!\nHello hi!\nBark Bark!\n"
     ]
    }
   ],
   "source": [
    "class Duck:\n",
    "    def talk(self):\n",
    "        print(\"Quack Quack!\")\n",
    "\n",
    "class Human:\n",
    "    def talk(self):\n",
    "        print(\"Hello hi!\")\n",
    "\n",
    "class Dog:\n",
    "    def bark(self):\n",
    "        print(\"Bark Bark!\")\n",
    "\n",
    "def calltalk(obj):\n",
    "    if hasattr(obj,'talk'):\n",
    "        obj.talk()\n",
    "    elif hasattr(obj,'bark'):\n",
    "        obj.bark()\n",
    "    else:\n",
    "        print(\"Wrong object passed\")\n",
    "\n",
    "x = Duck()\n",
    "calltalk(x)\n",
    "x = Human()\n",
    "calltalk(x)\n",
    "x = Dog()\n",
    "calltalk(x)\n"
   ]
  },
  {
   "source": [
    "## Operator overriding\n",
    "-"
   ],
   "cell_type": "markdown",
   "metadata": {}
  }
 ]
}