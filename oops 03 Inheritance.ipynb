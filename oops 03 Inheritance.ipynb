{
 "metadata": {
  "language_info": {
   "codemirror_mode": {
    "name": "ipython",
    "version": 3
   },
   "file_extension": ".py",
   "mimetype": "text/x-python",
   "name": "python",
   "nbconvert_exporter": "python",
   "pygments_lexer": "ipython3",
   "version": "3.8.3"
  },
  "orig_nbformat": 2,
  "kernelspec": {
   "name": "python383jvsc74a57bd04959e9b4f25b4c95f653ccaa3475948476cdf1a2f205983bd1d37b42ba7c6753",
   "display_name": "Python 3.8.3 64-bit ('base': conda)"
  }
 },
 "nbformat": 4,
 "nbformat_minor": 2,
 "cells": [
  {
   "source": [
    "# Inheritance \n",
    "developing a software is a team work just in order for the code to be more effective what we do is devide it into classes but for better flow of data in classes we need interconnectivity of classes which is achived by Inheritance"
   ],
   "cell_type": "markdown",
   "metadata": {}
  },
  {
   "cell_type": "code",
   "execution_count": 1,
   "metadata": {},
   "outputs": [],
   "source": [
    "class Teacher:\n",
    "    def setId(self,id):\n",
    "        self.id  = id\n",
    "    def getId(self):\n",
    "        return self.id\n",
    "    def setName(self,name):\n",
    "        self.name = name\n",
    "    def getName(self):\n",
    "        return self.name\n",
    "    def setAddress(self,address):\n",
    "        self.address = address\n",
    "    def getAddress(self):\n",
    "        return self.address\n",
    "    def setSalary(self,salary):\n",
    "        self.salary = salary\n",
    "    def getSalary(self):\n",
    "        return self.salary"
   ]
  },
  {
   "cell_type": "code",
   "execution_count": 3,
   "metadata": {},
   "outputs": [],
   "source": [
    "t = Teacher()\n",
    "t.setId(10)\n",
    "t.setName(\"Tanishka Kohli\")\n",
    "t.setAddress(\"jabalpur\")\n",
    "t.setSalary(10000)"
   ]
  },
  {
   "cell_type": "code",
   "execution_count": 5,
   "metadata": {},
   "outputs": [
    {
     "output_type": "execute_result",
     "data": {
      "text/plain": [
       "10"
      ]
     },
     "metadata": {},
     "execution_count": 5
    }
   ],
   "source": [
    "t.getId()"
   ]
  },
  {
   "cell_type": "code",
   "execution_count": 7,
   "metadata": {},
   "outputs": [],
   "source": [
    "class Student:\n",
    "    def setId(self,id):\n",
    "        self.id  = id\n",
    "    def getId(self):\n",
    "        return self.id\n",
    "    def setName(self,name):\n",
    "        self.name = name\n",
    "    def getName(self):\n",
    "        return self.name\n",
    "    def setAddress(self,address):\n",
    "        self.address = address\n",
    "    def getAddress(self):\n",
    "        return self.address\n",
    "    def setMarks(self,marks):\n",
    "        self.marks = marks\n",
    "    def getMarks(self):\n",
    "        return self.marks"
   ]
  },
  {
   "cell_type": "code",
   "execution_count": 9,
   "metadata": {},
   "outputs": [],
   "source": [
    "s = Student()\n",
    "s.setId(100)\n",
    "s.setName(\"Tan\")\n",
    "s.setAddress(\"jabalpur\")\n",
    "s.setMarks(80)"
   ]
  },
  {
   "source": [
    "Here 75% of code is similar and we are just rewriting the code \n"
   ],
   "cell_type": "markdown",
   "metadata": {}
  },
  {
   "cell_type": "code",
   "execution_count": 10,
   "metadata": {},
   "outputs": [],
   "source": [
    "class Student(Teacher):\n",
    "    def setMarks(self,marks):\n",
    "        self.marks = marks\n",
    "    def getMarks(self):\n",
    "        return self.marks"
   ]
  },
  {
   "cell_type": "code",
   "execution_count": 1,
   "metadata": {},
   "outputs": [],
   "source": [
    "#run both of classes with element"
   ]
  },
  {
   "source": [
    "## Overriding Super class funtion and variables"
   ],
   "cell_type": "markdown",
   "metadata": {}
  },
  {
   "cell_type": "code",
   "execution_count": null,
   "metadata": {},
   "outputs": [],
   "source": [
    "class Father:\n",
    "    def __init__(self):\n",
    "        self.property = 800000\n",
    "    def display(self):\n",
    "        print(\"father\\'s property is \",self.property)\n",
    "\n",
    "\n",
    "class Son(Father):\n",
    "    pass\n",
    "\n",
    "        \n",
    "s = Son()\n",
    "s.display()"
   ]
  },
  {
   "cell_type": "code",
   "execution_count": 2,
   "metadata": {},
   "outputs": [],
   "source": [
    "class Father:\n",
    "    def __init__(self):\n",
    "        self.property = 800000\n",
    "    def display(self):\n",
    "        print(\"father\\'s property is \",self.property)\n",
    "\n",
    "\n",
    "class Son(Father):\n",
    "    def __init__(self):\n",
    "        self.property = 200000\n",
    "    def display(self):\n",
    "        print(\"child\\'s property is \",self.property)\n",
    "\n",
    "\n",
    "s = Son()\n",
    "s.display()"
   ]
  },
  {
   "source": [
    "super() it is a built-in method which is useful to call super class parameter "
   ],
   "cell_type": "markdown",
   "metadata": {}
  },
  {
   "cell_type": "code",
   "execution_count": 1,
   "metadata": {},
   "outputs": [
    {
     "output_type": "stream",
     "name": "stdout",
     "text": [
      "son's property is  800000\n",
      "Total property 1000000\n"
     ]
    }
   ],
   "source": [
    "class Father:\n",
    "    def __init__(self,property=0):\n",
    "        self.property = property\n",
    "    def display(self):\n",
    "        print(\"father\\'s property is \",self.property)\n",
    "\n",
    "\n",
    "class Son(Father):\n",
    "    def __init__(self,property1 = 0,property=0):\n",
    "        super().__init__(property)                      # send property value to SuperClass constructor\n",
    "        self.property1 = property1                      # store property1 value to a sub class \n",
    "    def display(self):\n",
    "        print(\"son\\'s property is \",self.property1)\n",
    "        print(\"Total property\",(self.property+self.property1))\n",
    "\n",
    "s = Son(800000,200000)\n",
    "s.display()"
   ]
  },
  {
   "cell_type": "code",
   "execution_count": 2,
   "metadata": {},
   "outputs": [],
   "source": [
    "class Square:\n",
    "    def __init__(self,x):\n",
    "        self.x = x\n",
    "    def area(self):\n",
    "        print(\"area of rectangle is \",self.x*self.x)"
   ]
  },
  {
   "cell_type": "code",
   "execution_count": 3,
   "metadata": {},
   "outputs": [],
   "source": [
    "class Rectangle(Square):\n",
    "    def __init__(self,x,y):\n",
    "        super().__init__(x)\n",
    "        self.y = y\n",
    "    def area(self):\n",
    "        super().area()\n",
    "        print(\"area of rectangle is \",self.x*self.y)\n"
   ]
  },
  {
   "cell_type": "code",
   "execution_count": 4,
   "metadata": {},
   "outputs": [
    {
     "output_type": "stream",
     "name": "stdout",
     "text": [
      "area of rectangle is  100\narea of rectangle is  50\n"
     ]
    }
   ],
   "source": [
    "r = Rectangle(10,5.5)\n",
    "r.area()"
   ]
  },
  {
   "source": [
    "## Types of inheritance \n",
    "1. Single inheritance\n",
    "2. Multiple inheritance\n",
    "\n",
    "then we will see MRO method resolution order "
   ],
   "cell_type": "markdown",
   "metadata": {}
  },
  {
   "cell_type": "code",
   "execution_count": null,
   "metadata": {},
   "outputs": [],
   "source": []
  }
 ]
}