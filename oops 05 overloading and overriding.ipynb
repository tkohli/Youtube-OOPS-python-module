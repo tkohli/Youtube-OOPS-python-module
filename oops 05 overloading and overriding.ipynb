{
 "metadata": {
  "language_info": {
   "codemirror_mode": {
    "name": "ipython",
    "version": 3
   },
   "file_extension": ".py",
   "mimetype": "text/x-python",
   "name": "python",
   "nbconvert_exporter": "python",
   "pygments_lexer": "ipython3",
   "version": "3.8.3"
  },
  "orig_nbformat": 2,
  "kernelspec": {
   "name": "python383jvsc74a57bd04959e9b4f25b4c95f653ccaa3475948476cdf1a2f205983bd1d37b42ba7c6753",
   "display_name": "Python 3.8.3 64-bit ('base': conda)"
  }
 },
 "nbformat": 4,
 "nbformat_minor": 2,
 "cells": [
  {
   "source": [
    "sum(int a, int b){} <br>\n",
    "sum(int a, int b, int c){}\n"
   ],
   "cell_type": "markdown",
   "metadata": {}
  },
  {
   "cell_type": "code",
   "execution_count": 1,
   "metadata": {},
   "outputs": [
    {
     "output_type": "stream",
     "name": "stdout",
     "text": [
      "Sum of three numbers  15\nSum of 2 number is  9\n"
     ]
    }
   ],
   "source": [
    "#overloading\n",
    "class addition:\n",
    "    def sum(self,a=None,b=None,c=None):\n",
    "        if a!= None and b!= None and c!= None:\n",
    "            print(\"Sum of three numbers \",a+b+c)\n",
    "        elif a!= None and b!= None:\n",
    "            print(\"Sum of 2 number is \",a+b)\n",
    "        else:\n",
    "            print(\"Enter 2 or 3 numbers to add\")\n",
    "\n",
    "m = addition()\n",
    "m.sum(5,2,8)\n",
    "m.sum(1,8)"
   ]
  },
  {
   "cell_type": "code",
   "execution_count": 2,
   "metadata": {},
   "outputs": [
    {
     "output_type": "stream",
     "name": "stdout",
     "text": [
      "Enter 2 or 3 numbers to add\n"
     ]
    }
   ],
   "source": [
    "m.sum(5)"
   ]
  },
  {
   "cell_type": "code",
   "execution_count": null,
   "metadata": {},
   "outputs": [],
   "source": [
    "## Method Overriding"
   ]
  },
  {
   "cell_type": "code",
   "execution_count": null,
   "metadata": {},
   "outputs": [],
   "source": []
  },
  {
   "cell_type": "code",
   "execution_count": 3,
   "metadata": {},
   "outputs": [
    {
     "output_type": "stream",
     "name": "stdout",
     "text": [
      "Circle area =  706.8583470577034\nSquare area =  25\n"
     ]
    }
   ],
   "source": [
    "import math \n",
    "class Square:\n",
    "    def area(self,x):\n",
    "        print(\"Square area = \",x*x)\n",
    "class Circle:\n",
    "    def area(self,x):\n",
    "        print(\"Circle area = \",math.pi*x*x)\n",
    "    \n",
    "\n",
    "c = Circle()\n",
    "c.area(15)\n",
    "s = Square()\n",
    "s.area(5)"
   ]
  },
  {
   "cell_type": "code",
   "execution_count": null,
   "metadata": {},
   "outputs": [],
   "source": []
  }
 ]
}